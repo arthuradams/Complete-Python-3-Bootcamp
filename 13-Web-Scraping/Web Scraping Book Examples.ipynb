{
 "cells": [
  {
   "cell_type": "code",
   "execution_count": 1,
   "id": "f726b4be",
   "metadata": {},
   "outputs": [],
   "source": [
    "import requests\n",
    "import bs4"
   ]
  },
  {
   "cell_type": "code",
   "execution_count": 2,
   "id": "ee1957ef",
   "metadata": {},
   "outputs": [],
   "source": [
    "base_url = \"https://books.toscrape.com/catalogue/page-{}.html\""
   ]
  },
  {
   "cell_type": "code",
   "execution_count": 4,
   "id": "e7bda706",
   "metadata": {},
   "outputs": [
    {
     "data": {
      "text/plain": [
       "'https://books.toscrape.com/catalogue/page-1.html'"
      ]
     },
     "execution_count": 4,
     "metadata": {},
     "output_type": "execute_result"
    }
   ],
   "source": [
    "base_url.format(1)"
   ]
  },
  {
   "cell_type": "code",
   "execution_count": 5,
   "id": "08e3b6ab",
   "metadata": {},
   "outputs": [],
   "source": [
    "res = requests.get(base_url.format(1))"
   ]
  },
  {
   "cell_type": "code",
   "execution_count": 6,
   "id": "9c15f318",
   "metadata": {},
   "outputs": [],
   "source": [
    "soup = bs4.BeautifulSoup(res.text,\"lxml\")"
   ]
  },
  {
   "cell_type": "code",
   "execution_count": 12,
   "id": "6269cbe8",
   "metadata": {},
   "outputs": [],
   "source": [
    "products = soup.select(\".product_pod\")"
   ]
  },
  {
   "cell_type": "code",
   "execution_count": 14,
   "id": "beb33945",
   "metadata": {},
   "outputs": [],
   "source": [
    "example = products[0]"
   ]
  },
  {
   "cell_type": "code",
   "execution_count": 15,
   "id": "629ec9fe",
   "metadata": {},
   "outputs": [
    {
     "data": {
      "text/plain": [
       "True"
      ]
     },
     "execution_count": 15,
     "metadata": {},
     "output_type": "execute_result"
    }
   ],
   "source": [
    "'star-rating Three' in str(example)"
   ]
  },
  {
   "cell_type": "code",
   "execution_count": 16,
   "id": "cb426d3e",
   "metadata": {},
   "outputs": [
    {
     "data": {
      "text/plain": [
       "[<p class=\"star-rating Three\">\n",
       " <i class=\"icon-star\"></i>\n",
       " <i class=\"icon-star\"></i>\n",
       " <i class=\"icon-star\"></i>\n",
       " <i class=\"icon-star\"></i>\n",
       " <i class=\"icon-star\"></i>\n",
       " </p>]"
      ]
     },
     "execution_count": 16,
     "metadata": {},
     "output_type": "execute_result"
    }
   ],
   "source": [
    "example.select(\".star-rating.Three\")"
   ]
  },
  {
   "cell_type": "code",
   "execution_count": 17,
   "id": "6b05dc2a",
   "metadata": {},
   "outputs": [
    {
     "data": {
      "text/plain": [
       "<article class=\"product_pod\">\n",
       "<div class=\"image_container\">\n",
       "<a href=\"a-light-in-the-attic_1000/index.html\"><img alt=\"A Light in the Attic\" class=\"thumbnail\" src=\"../media/cache/2c/da/2cdad67c44b002e7ead0cc35693c0e8b.jpg\"/></a>\n",
       "</div>\n",
       "<p class=\"star-rating Three\">\n",
       "<i class=\"icon-star\"></i>\n",
       "<i class=\"icon-star\"></i>\n",
       "<i class=\"icon-star\"></i>\n",
       "<i class=\"icon-star\"></i>\n",
       "<i class=\"icon-star\"></i>\n",
       "</p>\n",
       "<h3><a href=\"a-light-in-the-attic_1000/index.html\" title=\"A Light in the Attic\">A Light in the ...</a></h3>\n",
       "<div class=\"product_price\">\n",
       "<p class=\"price_color\">Â£51.77</p>\n",
       "<p class=\"instock availability\">\n",
       "<i class=\"icon-ok\"></i>\n",
       "    \n",
       "        In stock\n",
       "    \n",
       "</p>\n",
       "<form>\n",
       "<button class=\"btn btn-primary btn-block\" data-loading-text=\"Adding...\" type=\"submit\">Add to basket</button>\n",
       "</form>\n",
       "</div>\n",
       "</article>"
      ]
     },
     "execution_count": 17,
     "metadata": {},
     "output_type": "execute_result"
    }
   ],
   "source": [
    "example"
   ]
  },
  {
   "cell_type": "code",
   "execution_count": 28,
   "id": "db91d242",
   "metadata": {},
   "outputs": [
    {
     "data": {
      "text/plain": [
       "'A Light in the Attic'"
      ]
     },
     "execution_count": 28,
     "metadata": {},
     "output_type": "execute_result"
    }
   ],
   "source": [
    "example.select('a')[1]['title']"
   ]
  },
  {
   "cell_type": "code",
   "execution_count": 52,
   "id": "6c7bdfee",
   "metadata": {},
   "outputs": [
    {
     "name": "stdout",
     "output_type": "stream",
     "text": [
      "Invalid url: https://books.toscrape.com/catalogue/page-51.html\n"
     ]
    }
   ],
   "source": [
    "base_url = \"https://books.toscrape.com/catalogue/page-{}.html\"\n",
    "two_star_books = []\n",
    "page = 0\n",
    "while True:\n",
    "    page += 1\n",
    "    res = requests.get(base_url.format(page))\n",
    "    if res.status_code != 200:\n",
    "        print(\"Invalid url: \" + base_url.format(page))\n",
    "        break\n",
    "    soup = bs4.BeautifulSoup(res.text,\"lxml\")\n",
    "    products = soup.select(\".product_pod\")\n",
    "    for product in products:\n",
    "        if product.select(\".star-rating.Two\"):\n",
    "            two_star_books.append(product.select('a')[1]['title'])\n",
    "    "
   ]
  },
  {
   "cell_type": "code",
   "execution_count": 53,
   "id": "353b2f8a",
   "metadata": {},
   "outputs": [
    {
     "name": "stdout",
     "output_type": "stream",
     "text": [
      "None\n"
     ]
    }
   ],
   "source": [
    "print(two_star_books.sort())"
   ]
  },
  {
   "cell_type": "code",
   "execution_count": 49,
   "id": "e1919ded",
   "metadata": {},
   "outputs": [
    {
     "data": {
      "text/plain": [
       "['10% Happier: How I Tamed the Voice in My Head, Reduced Stress Without Losing My Edge, and Found Self-Help That Actually Works',\n",
       " '23 Degrees South: A Tropical Tale of Changing Whether...',\n",
       " '32 Yolks',\n",
       " 'A Game of Thrones (A Song of Ice and Fire #1)',\n",
       " \"A People's History of the United States\",\n",
       " 'A Series of Catastrophes and Miracles: A True Story of Love, Science, and Cancer',\n",
       " 'A Storm of Swords (A Song of Ice and Fire #3)',\n",
       " 'A Study in Scarlet (Sherlock Holmes #1)',\n",
       " 'A Summer In Europe',\n",
       " 'Adulthood Is a Myth: A \"Sarah\\'s Scribbles\" Collection',\n",
       " \"America's War for the Greater Middle East: A Military History\",\n",
       " 'And Then There Were None',\n",
       " 'Angels Walking (Angels Walking #1)',\n",
       " 'Avatar: The Last Airbender: Smoke and Shadow, Part 3 (Smoke and Shadow #3)',\n",
       " 'Awkward',\n",
       " \"Ayumi's Violin\",\n",
       " 'Batman: Europa',\n",
       " 'Batman: The Long Halloween (Batman)',\n",
       " 'Beauty Restored (Riley Family Legacy Novellas #3)',\n",
       " 'Becoming Wise: An Inquiry into the Mystery and Art of Living',\n",
       " 'Beowulf',\n",
       " \"Best of My Love (Fool's Gold #20)\",\n",
       " 'Bitch Planet, Vol. 1: Extraordinary Machine (Bitch Planet (Collected Editions))',\n",
       " 'Born to Run: A Hidden Tribe, Superathletes, and the Greatest Race the World Has Never Seen',\n",
       " 'Bossypants',\n",
       " \"Brazen: The Courage to Find the You That's Been Hiding\",\n",
       " 'Career of Evil (Cormoran Strike #3)',\n",
       " 'Carrie',\n",
       " \"Catastrophic Happiness: Finding Joy in Childhood's Messy Years\",\n",
       " 'Chasing Heaven: What Dying Taught Me About Living',\n",
       " \"Chernobyl 01:23:40: The Incredible True Story of the World's Worst Nuclear Disaster\",\n",
       " 'Chronicles, Vol. 1',\n",
       " 'Civilization and Its Discontents',\n",
       " 'Confessions of a Shopaholic (Shopaholic #1)',\n",
       " 'Cosmos',\n",
       " 'Crazy Love: Overwhelmed by a Relentless God',\n",
       " 'Doctor Sleep (The Shining #2)',\n",
       " \"Don't Be a Jerk: And Other Practical Advice from Dogen, Japan's Greatest Zen Master\",\n",
       " 'Drama',\n",
       " 'Eat Fat, Get Thin',\n",
       " 'Emma',\n",
       " 'Everydata: The Misinformation Hidden in the Little Data You Consume Every Day',\n",
       " 'Far From True (Promise Falls Trilogy #2)',\n",
       " 'Finding God in the Ruins: How God Redeems Pain',\n",
       " 'Frankenstein',\n",
       " 'Fruits Basket, Vol. 3 (Fruits Basket #3)',\n",
       " 'Giant Days, Vol. 2 (Giant Days #5-8)',\n",
       " 'Girl in the Blue Coat',\n",
       " 'Give It Back',\n",
       " 'Grumbles',\n",
       " \"Heaven is for Real: A Little Boy's Astounding Story of His Trip to Heaven and Back\",\n",
       " 'Holidays on Ice',\n",
       " 'Horrible Bear!',\n",
       " 'House of Lost Worlds: Dinosaurs, Dynasties, and the Story of Life on Earth',\n",
       " 'How Music Works',\n",
       " 'How to Be a Domestic Goddess: Baking and the Art of Comfort Cooking',\n",
       " 'Howl and Other Poems',\n",
       " 'I Am Malala: The Girl Who Stood Up for Education and Was Shot by the Taliban',\n",
       " 'I Hate Fairyland, Vol. 1: Madly Ever After (I Hate Fairyland (Compilations) #1-5)',\n",
       " \"I Know Why the Caged Bird Sings (Maya Angelou's Autobiography #1)\",\n",
       " 'In the Woods (Dublin Murder Squad #1)',\n",
       " \"It's Only the Himalayas\",\n",
       " 'Judo: Seven Steps to Black Belt (an Introductory Guide for Beginners)',\n",
       " 'Large Print Heart of the Pride',\n",
       " 'Left Behind (Left Behind #1)',\n",
       " 'Libertarianism for Beginners',\n",
       " 'Life After Life',\n",
       " \"Life, the Universe and Everything (Hitchhiker's Guide to the Galaxy #3)\",\n",
       " 'Like Never Before (Walker Family #2)',\n",
       " 'Lilac Girls',\n",
       " 'Logan Kade (Fallen Crest High #5.5)',\n",
       " 'Louisa: The Extraordinary Life of Mrs. Adams',\n",
       " \"Love That Boy: What Two Presidents, Eight Road Trips, and My Son Taught Me About a Parent's Expectations\",\n",
       " 'Love, Lies and Spies',\n",
       " 'Lowriders to the Center of the Earth (Lowriders in Space #2)',\n",
       " 'Lumberjanes Vol. 3: A Terrible Plan (Lumberjanes #9-12)',\n",
       " 'Lumberjanes, Vol. 2: Friendship to the Max (Lumberjanes #5-8)',\n",
       " 'Lust & Wonder',\n",
       " 'Manuscript Found in Accra',\n",
       " 'Masks and Shadows',\n",
       " 'Maude (1883-1993):She Grew Up with the country',\n",
       " 'Me Talk Pretty One Day',\n",
       " 'Meditations',\n",
       " 'Midnight Riot (Peter Grant/ Rivers of London - books #1)',\n",
       " \"Miller's Valley\",\n",
       " 'Misery',\n",
       " 'Modern Day Fables',\n",
       " 'More Than Music (Chasing the Dream #1)',\n",
       " 'Mothering Sunday',\n",
       " 'My Kitchen Year: 136 Recipes That Saved My Life',\n",
       " 'My Paris Kitchen: Recipes and Stories',\n",
       " 'My Perfect Mistake (Over the Top #1)',\n",
       " 'Naruto (3-in-1 Edition), Vol. 14: Includes Vols. 40, 41 & 42 (Naruto: Omnibus #14)',\n",
       " 'No Dream Is Too High: Life Lessons From a Man Who Walked on the Moon',\n",
       " 'Obsidian (Lux #1)',\n",
       " 'Of Mice and Men',\n",
       " \"Old Records Never Die: One Man's Quest for His Vinyl and His Past\",\n",
       " 'Once Was a Time',\n",
       " 'One Second (Seven #7)',\n",
       " 'One for the Money (Stephanie Plum #1)',\n",
       " 'Orange Is the New Black',\n",
       " 'Packing for Mars: The Curious Science of Life in the Void',\n",
       " 'Peak: Secrets from the New Science of Expertise',\n",
       " 'Political Suicide: Missteps, Peccadilloes, Bad Calls, Backroom Hijinx, Sordid Pasts, Rotten Breaks, and Just Plain Dumb Mistakes in the Annals of American Politics',\n",
       " 'Raymie Nightingale',\n",
       " 'Reasons to Stay Alive',\n",
       " 'Red Hood/Arsenal, Vol. 1: Open for Business (Red Hood/Arsenal #1)',\n",
       " 'Reskilling America: Learning to Labor in the Twenty-First Century',\n",
       " 'Rework',\n",
       " 'Rhythm, Chord & Malykhin',\n",
       " 'Saga, Volume 5 (Saga (Collected Editions) #5)',\n",
       " 'Security',\n",
       " 'Setting the World on Fire: The Brief, Astonishing Life of St. Catherine of Siena',\n",
       " 'Settling the Score (The Summer Games #1)',\n",
       " 'Seven Days in the Art World',\n",
       " 'Shoe Dog: A Memoir by the Creator of NIKE',\n",
       " 'Shopaholic & Baby (Shopaholic #5)',\n",
       " \"So You've Been Publicly Shamed\",\n",
       " 'Soft Apocalypse',\n",
       " 'Soldier (Talon #3)',\n",
       " 'Soul Reader',\n",
       " 'Stars Above (The Lunar Chronicles #4.5)',\n",
       " 'Starving Hearts (Triangular Trade Trilogy, #1)',\n",
       " 'Steal Like an Artist: 10 Things Nobody Told You About Being Creative',\n",
       " 'Suddenly in Love (Lake Haven #1)',\n",
       " \"Surely You're Joking, Mr. Feynman!: Adventures of a Curious Character\",\n",
       " 'Taking Shots (Assassins #1)',\n",
       " \"Tell the Wolves I'm Home\",\n",
       " 'The 5th Wave (The 5th Wave #1)',\n",
       " 'The Argonauts',\n",
       " 'The Art Book',\n",
       " 'The Autobiography of Malcolm X',\n",
       " 'The Book Thief',\n",
       " 'The Cat in the Hat (Beginner Books B-1)',\n",
       " 'The Da Vinci Code (Robert Langdon #2)',\n",
       " 'The Demon Prince of Momochi House, Vol. 4 (The Demon Prince of Momochi House #4)',\n",
       " 'The Demonists (Demonist #1)',\n",
       " 'The Dinner Party',\n",
       " 'The Emerald Mystery',\n",
       " 'The Expatriates',\n",
       " 'The Fellowship of the Ring (The Lord of the Rings #1)',\n",
       " 'The Flowers Lied',\n",
       " \"The Geography of Bliss: One Grump's Search for the Happiest Places in the World\",\n",
       " 'The Girl Who Played with Fire (Millennium Trilogy #2)',\n",
       " 'The Girl on the Train',\n",
       " 'The Guilty (Will Robie #4)',\n",
       " 'The Guns of August',\n",
       " 'The Hidden Oracle (The Trials of Apollo #1)',\n",
       " 'The Hound of the Baskervilles (Sherlock Holmes #5)',\n",
       " 'The Immortal Life of Henrietta Lacks',\n",
       " 'The Last Girl (The Dominion Trilogy #1)',\n",
       " 'The Last Mile (Amos Decker #2)',\n",
       " 'The Last Painting of Sara de Vos',\n",
       " 'The Little Prince',\n",
       " 'The Lonely City: Adventures in the Art of Being Alone',\n",
       " 'The Love and Lemons Cookbook: An Apple-to-Zucchini Celebration of Impromptu Cooking',\n",
       " \"The Lover's Dictionary\",\n",
       " 'The Makings of a Fatherless Child',\n",
       " 'The Martian (The Martian #1)',\n",
       " 'The Name of God is Mercy',\n",
       " \"The Omnivore's Dilemma: A Natural History of Four Meals\",\n",
       " 'The Picture of Dorian Gray',\n",
       " \"The Pilgrim's Progress\",\n",
       " 'The Power of Now: A Guide to Spiritual Enlightenment',\n",
       " 'The Psychopath Test: A Journey Through the Madness Industry',\n",
       " 'The Raven King (The Raven Cycle #4)',\n",
       " 'The Rise and Fall of the Third Reich: A History of Nazi Germany',\n",
       " 'The Stand',\n",
       " 'The Suffragettes (Little Black Classics, #96)',\n",
       " 'The Tipping Point: How Little Things Can Make a Big Difference',\n",
       " 'The Wicked + The Divine, Vol. 1: The Faust Act (The Wicked + The Divine)',\n",
       " 'The Widow',\n",
       " 'The Year of Magical Thinking',\n",
       " 'This Is Where It Ends',\n",
       " 'Three Wishes (River of Time: California #1)',\n",
       " 'Through the Woods',\n",
       " 'Troublemaker: Surviving Hollywood and Scientology',\n",
       " 'Tuesday Nights in 1980',\n",
       " 'Twenties Girl',\n",
       " 'Twenty Yawns',\n",
       " 'Twilight (Twilight #1)',\n",
       " 'Two Boys Kissing',\n",
       " 'Unbroken: A World War II Story of Survival, Resilience, and Redemption',\n",
       " 'Underlying Notes',\n",
       " 'Unreasonable Hope: Finding Faith in the God Who Brings Purpose to Your Pain',\n",
       " 'Until Friday Night (The Field Party #1)',\n",
       " 'Vagabonding: An Uncommon Guide to the Art of Long-Term World Travel',\n",
       " 'Vampire Girl (Vampire Girl #1)',\n",
       " 'Vegan Vegetarian Omnivore: Dinner for Everyone at the Table',\n",
       " \"What's It Like in Space?: Stories from Astronauts Who've Been There\",\n",
       " 'When Breath Becomes Air',\n",
       " 'Why Save the Bankers?: And Other Essays on Our Economic and Political Crisis',\n",
       " 'Wild Swans',\n",
       " 'Wildlife of New York: A Five-Borough Coloring Book',\n",
       " 'Without Borders (Wanderlove #1)',\n",
       " \"You can't bury them all: Poems\"]"
      ]
     },
     "execution_count": 49,
     "metadata": {},
     "output_type": "execute_result"
    }
   ],
   "source": [
    "two_star_books"
   ]
  },
  {
   "cell_type": "code",
   "execution_count": 50,
   "id": "c5c8d0f3",
   "metadata": {},
   "outputs": [
    {
     "data": {
      "text/plain": [
       "196"
      ]
     },
     "execution_count": 50,
     "metadata": {},
     "output_type": "execute_result"
    }
   ],
   "source": [
    "len(two_star_books)"
   ]
  },
  {
   "cell_type": "code",
   "execution_count": 51,
   "id": "5c894adb",
   "metadata": {},
   "outputs": [
    {
     "name": "stdout",
     "output_type": "stream",
     "text": [
      "<Response [200]>\n"
     ]
    }
   ],
   "source": [
    "print(requests.get(base_url.format(1)))"
   ]
  },
  {
   "cell_type": "code",
   "execution_count": null,
   "id": "865dc462",
   "metadata": {},
   "outputs": [],
   "source": []
  }
 ],
 "metadata": {
  "kernelspec": {
   "display_name": "Python 3",
   "language": "python",
   "name": "python3"
  },
  "language_info": {
   "codemirror_mode": {
    "name": "ipython",
    "version": 3
   },
   "file_extension": ".py",
   "mimetype": "text/x-python",
   "name": "python",
   "nbconvert_exporter": "python",
   "pygments_lexer": "ipython3",
   "version": "3.8.8"
  }
 },
 "nbformat": 4,
 "nbformat_minor": 5
}
