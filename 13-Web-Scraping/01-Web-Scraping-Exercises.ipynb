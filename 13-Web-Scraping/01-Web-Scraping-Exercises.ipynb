{
 "cells": [
  {
   "cell_type": "markdown",
   "metadata": {},
   "source": [
    "___\n",
    "\n",
    "<a href='https://www.udemy.com/user/joseportilla/'><img src='../Pierian_Data_Logo.png'/></a>\n",
    "___\n",
    "<center><em>Content Copyright by Pierian Data</em></center>"
   ]
  },
  {
   "cell_type": "markdown",
   "metadata": {},
   "source": [
    "# Web Scraping Exercises \n",
    "\n",
    "## Complete the Tasks Below"
   ]
  },
  {
   "cell_type": "markdown",
   "metadata": {},
   "source": [
    "**TASK: Import any libraries you think you'll need to scrape a website.**"
   ]
  },
  {
   "cell_type": "code",
   "execution_count": 77,
   "metadata": {},
   "outputs": [],
   "source": [
    "# CODE HERE"
   ]
  },
  {
   "cell_type": "code",
   "execution_count": 78,
   "metadata": {},
   "outputs": [],
   "source": [
    "import requests\n",
    "import bs4"
   ]
  },
  {
   "cell_type": "markdown",
   "metadata": {},
   "source": [
    "**TASK: Use requests library and BeautifulSoup to connect to http://quotes.toscrape.com/ and get the HMTL text from the homepage.**"
   ]
  },
  {
   "cell_type": "code",
   "execution_count": 79,
   "metadata": {},
   "outputs": [],
   "source": [
    "# CODE HERE"
   ]
  },
  {
   "cell_type": "code",
   "execution_count": 80,
   "metadata": {},
   "outputs": [],
   "source": [
    "url = \"http://quotes.toscrape.com/\""
   ]
  },
  {
   "cell_type": "code",
   "execution_count": 111,
   "metadata": {},
   "outputs": [],
   "source": [
    "res = requests.get(url)"
   ]
  },
  {
   "cell_type": "markdown",
   "metadata": {},
   "source": [
    "**TASK: Get the names of all the authors on the first page.**"
   ]
  },
  {
   "cell_type": "code",
   "execution_count": 112,
   "metadata": {},
   "outputs": [],
   "source": [
    "# CODE HERE\n",
    "soup = bs4.BeautifulSoup(res.text,\"lxml\")"
   ]
  },
  {
   "cell_type": "code",
   "execution_count": 113,
   "metadata": {},
   "outputs": [],
   "source": [
    "authors = [] \n",
    "for author in soup.select(\".author\"):\n",
    "    authors.append(author.string)"
   ]
  },
  {
   "cell_type": "code",
   "execution_count": 114,
   "metadata": {},
   "outputs": [],
   "source": [
    "authors = set(authors)"
   ]
  },
  {
   "cell_type": "code",
   "execution_count": 115,
   "metadata": {},
   "outputs": [
    {
     "data": {
      "text/plain": [
       "{'Albert Einstein',\n",
       " 'André Gide',\n",
       " 'Eleanor Roosevelt',\n",
       " 'J.K. Rowling',\n",
       " 'Jane Austen',\n",
       " 'Marilyn Monroe',\n",
       " 'Steve Martin',\n",
       " 'Thomas A. Edison'}"
      ]
     },
     "execution_count": 115,
     "metadata": {},
     "output_type": "execute_result"
    }
   ],
   "source": [
    "authors"
   ]
  },
  {
   "cell_type": "markdown",
   "metadata": {},
   "source": [
    "**TASK: Create a list of all the quotes on the first page.**"
   ]
  },
  {
   "cell_type": "code",
   "execution_count": 116,
   "metadata": {},
   "outputs": [],
   "source": [
    "#CODE HERE\n",
    "# print(type(soup))\n",
    "all_quotes = []\n",
    "quotes = soup.select(\".text\")\n",
    "for quote in quotes:\n",
    "    all_quotes.append(quote.string)"
   ]
  },
  {
   "cell_type": "code",
   "execution_count": 87,
   "metadata": {},
   "outputs": [
    {
     "data": {
      "text/plain": [
       "['“The world as we have created it is a process of our thinking. It cannot be changed without changing our thinking.”',\n",
       " '“It is our choices, Harry, that show what we truly are, far more than our abilities.”',\n",
       " '“There are only two ways to live your life. One is as though nothing is a miracle. The other is as though everything is a miracle.”',\n",
       " '“The person, be it gentleman or lady, who has not pleasure in a good novel, must be intolerably stupid.”',\n",
       " \"“Imperfection is beauty, madness is genius and it's better to be absolutely ridiculous than absolutely boring.”\",\n",
       " '“Try not to become a man of success. Rather become a man of value.”',\n",
       " '“It is better to be hated for what you are than to be loved for what you are not.”',\n",
       " \"“I have not failed. I've just found 10,000 ways that won't work.”\",\n",
       " \"“A woman is like a tea bag; you never know how strong it is until it's in hot water.”\",\n",
       " '“A day without sunshine is like, you know, night.”']"
      ]
     },
     "execution_count": 87,
     "metadata": {},
     "output_type": "execute_result"
    }
   ],
   "source": [
    "all_quotes"
   ]
  },
  {
   "cell_type": "markdown",
   "metadata": {},
   "source": [
    "**TASK: Inspect the site and use Beautiful Soup to extract the top ten tags from the requests text shown on the top right from the home page (e.g Love,Inspirational,Life, etc...). HINT: Keep in mind there are also tags underneath each quote, try to find a class only present in the top right tags, perhaps check the span.**"
   ]
  },
  {
   "cell_type": "code",
   "execution_count": 89,
   "metadata": {},
   "outputs": [],
   "source": [
    "# CODE HERE"
   ]
  },
  {
   "cell_type": "code",
   "execution_count": 90,
   "metadata": {},
   "outputs": [
    {
     "name": "stdout",
     "output_type": "stream",
     "text": [
      "\n",
      "love\n",
      "\n",
      "\n",
      "inspirational\n",
      "\n",
      "\n",
      "life\n",
      "\n",
      "\n",
      "humor\n",
      "\n",
      "\n",
      "books\n",
      "\n",
      "\n",
      "reading\n",
      "\n",
      "\n",
      "friendship\n",
      "\n",
      "\n",
      "friends\n",
      "\n",
      "\n",
      "truth\n",
      "\n",
      "\n",
      "simile\n",
      "\n"
     ]
    }
   ],
   "source": [
    "top_ten_tags = []\n",
    "top_ten = soup.select(\".tag-item\")\n",
    "for item in top_ten:\n",
    "    print(item.text)\n",
    "    "
   ]
  },
  {
   "cell_type": "code",
   "execution_count": 110,
   "metadata": {},
   "outputs": [
    {
     "name": "stdout",
     "output_type": "stream",
     "text": [
      "End reached at page 11\n",
      "Albert Einstein : 10\n",
      "J.K. Rowling : 9\n",
      "Jane Austen : 5\n",
      "Marilyn Monroe : 7\n",
      "André Gide : 1\n",
      "Thomas A. Edison : 1\n",
      "Eleanor Roosevelt : 2\n",
      "Steve Martin : 1\n",
      "Bob Marley : 3\n",
      "Dr. Seuss : 6\n",
      "Douglas Adams : 1\n",
      "Elie Wiesel : 1\n",
      "Friedrich Nietzsche : 1\n",
      "Mark Twain : 6\n",
      "Allen Saunders : 1\n",
      "Pablo Neruda : 1\n",
      "Ralph Waldo Emerson : 2\n",
      "Mother Teresa : 2\n",
      "Garrison Keillor : 1\n",
      "Jim Henson : 1\n",
      "Charles M. Schulz : 1\n",
      "William Nicholson : 1\n",
      "Jorge Luis Borges : 1\n",
      "George Eliot : 1\n",
      "George R.R. Martin : 2\n",
      "C.S. Lewis : 5\n",
      "Martin Luther King Jr. : 1\n",
      "James Baldwin : 1\n",
      "Haruki Murakami : 1\n",
      "Alexandre Dumas fils : 1\n",
      "Stephenie Meyer : 1\n",
      "Ernest Hemingway : 2\n",
      "Helen Keller : 1\n",
      "George Bernard Shaw : 1\n",
      "Charles Bukowski : 2\n",
      "Suzanne Collins : 2\n",
      "J.R.R. Tolkien : 1\n",
      "Alfred Tennyson : 1\n",
      "Terry Pratchett : 1\n",
      "J.D. Salinger : 1\n",
      "George Carlin : 1\n",
      "John Lennon : 1\n",
      "W.C. Fields : 1\n",
      "Ayn Rand : 1\n",
      "Jimi Hendrix : 1\n",
      "J.M. Barrie : 1\n",
      "E.E. Cummings : 1\n",
      "Khaled Hosseini : 1\n",
      "Harper Lee : 1\n",
      "Madeleine L'Engle : 1\n"
     ]
    }
   ],
   "source": [
    "# CODE HERE\n",
    "base_url = \"http://quotes.toscrape.com/page/{}/\"\n",
    "authors = {}\n",
    "page = 0\n",
    "while True:\n",
    "    page += 1\n",
    "    res = requests.get(base_url.format(page))\n",
    "    soup = bs4.BeautifulSoup(res.text,\"lxml\")\n",
    "    page_authors = soup.select(\".author\")\n",
    "    if page_authors == []:\n",
    "        print(f\"End reached at page {page}\")\n",
    "        break\n",
    "    else:\n",
    "        for author in page_authors:\n",
    "            if author.string in authors.keys():\n",
    "                authors[author.string] += 1\n",
    "            else:\n",
    "                authors[author.string] = 1\n",
    "\n",
    "for author in authors.keys():\n",
    "    print(f\"{author} : {authors[author]}\")"
   ]
  },
  {
   "cell_type": "markdown",
   "metadata": {},
   "source": [
    "**TASK: Notice how there is more than one page, and subsequent pages look like this http://quotes.toscrape.com/page/2/. Use what you know about for loops and string concatenation to loop through all the pages and get all the unique authors on the website. Keep in mind there are many ways to achieve this, also note that you will need to somehow figure out how to check that your loop is on the last page with quotes. For debugging purposes, I will let you know that there are only 10 pages, so the last page is http://quotes.toscrape.com/page/10/, but try to create a loop that is robust enough that it wouldn't matter to know the amount of pages beforehand, perhaps use try/except for this, its up to you!**"
   ]
  },
  {
   "cell_type": "markdown",
   "metadata": {},
   "source": [
    "There are lots of other potential solutions that are even more robust and flexible, the main idea is the same though, use a while loop to cycle through potential pages and have a break condition based on the invalid page."
   ]
  },
  {
   "cell_type": "code",
   "execution_count": null,
   "metadata": {},
   "outputs": [],
   "source": [
    "# CODE HERE\n",
    "base_url = \"http://quotes.toscrape.com/page/{}/\"\n",
    "authors = []\n",
    "for page in range(1,11):\n",
    "    print(page)\n",
    "#    res = requests.get(base_url.format(page))\n",
    "#    print(base_url.format(page))\n",
    "#    soup = bs4.BeautifulSoup(res.text,\"lxml\")\n",
    "#    for author in soup.select(\".author\"):\n",
    "#        authors.append(author.string)\n",
    "#        print(author.string)\n"
   ]
  },
  {
   "cell_type": "code",
   "execution_count": null,
   "metadata": {},
   "outputs": [],
   "source": []
  },
  {
   "cell_type": "code",
   "execution_count": null,
   "metadata": {},
   "outputs": [],
   "source": []
  },
  {
   "cell_type": "code",
   "execution_count": null,
   "metadata": {},
   "outputs": [],
   "source": []
  }
 ],
 "metadata": {
  "kernelspec": {
   "display_name": "Python 3",
   "language": "python",
   "name": "python3"
  }
 },
 "nbformat": 4,
 "nbformat_minor": 2
}
