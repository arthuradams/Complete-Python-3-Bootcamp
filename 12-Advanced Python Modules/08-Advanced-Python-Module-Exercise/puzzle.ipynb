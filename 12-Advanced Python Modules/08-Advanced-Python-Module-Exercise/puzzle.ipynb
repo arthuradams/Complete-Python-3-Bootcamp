{
 "cells": [
  {
   "cell_type": "code",
   "execution_count": 2,
   "id": "feb0893d",
   "metadata": {},
   "outputs": [],
   "source": [
    "import zipfile"
   ]
  },
  {
   "cell_type": "code",
   "execution_count": 3,
   "id": "a3e7df76",
   "metadata": {},
   "outputs": [],
   "source": [
    "zip_obj = zipfile.ZipFile('unzip_me_for_instructions.zip','r')"
   ]
  },
  {
   "cell_type": "code",
   "execution_count": 4,
   "id": "23ea4864",
   "metadata": {},
   "outputs": [],
   "source": [
    "zip_obj.extractall(\"my_extracted_content\\\\\")"
   ]
  },
  {
   "cell_type": "code",
   "execution_count": 5,
   "id": "76f5747c",
   "metadata": {},
   "outputs": [],
   "source": [
    "import os\n",
    "import re\n",
    "path = \"my_extracted_content\\\\extracted_content\"\n",
    "pattern = r\"\\d{3}-\\d{3}-\\d{4}\""
   ]
  },
  {
   "cell_type": "code",
   "execution_count": 23,
   "id": "01a9eded",
   "metadata": {},
   "outputs": [
    {
     "name": "stdout",
     "output_type": "stream",
     "text": [
      "Found ['719-266-2837'] in my_extracted_content\\extracted_content\\Four\\EMTGPSXQEJX.txt\n"
     ]
    }
   ],
   "source": [
    "for folder, sub_folders , files in os.walk(path):\n",
    "    for file in files:\n",
    "        f_name = folder + \"\\\\\" + file\n",
    "        f = open(f_name, \"r\")\n",
    "        result = re.search(pattern,f.read())\n",
    "        if result:\n",
    "            # print(result)\n",
    "            print(\"Found \" + str(result) + \" in \" + f_name)\n",
    "        f.close()\n",
    "            "
   ]
  },
  {
   "cell_type": "code",
   "execution_count": 22,
   "id": "0f8eb5aa",
   "metadata": {
    "scrolled": true
   },
   "outputs": [
    {
     "name": "stdout",
     "output_type": "stream",
     "text": [
      "['Five', 'Four', 'One', 'Three', 'Two']\n",
      "[]\n",
      "[]\n",
      "[]\n",
      "[]\n",
      "[]\n"
     ]
    }
   ],
   "source": [
    "for folders, sub_folders , files in os.walk(path):\n",
    "    print(sub_folders)\n"
   ]
  },
  {
   "cell_type": "code",
   "execution_count": 40,
   "id": "f09e5ccf",
   "metadata": {},
   "outputs": [],
   "source": [
    "x = os.walk(\".\")"
   ]
  },
  {
   "cell_type": "code",
   "execution_count": 41,
   "id": "202c43f9",
   "metadata": {},
   "outputs": [
    {
     "data": {
      "text/plain": [
       "<generator object walk at 0x0000027C5E6AC270>"
      ]
     },
     "execution_count": 41,
     "metadata": {},
     "output_type": "execute_result"
    }
   ],
   "source": [
    "x"
   ]
  },
  {
   "cell_type": "code",
   "execution_count": 42,
   "id": "2bf84b39",
   "metadata": {},
   "outputs": [
    {
     "name": "stdout",
     "output_type": "stream",
     "text": [
      "('.', ['.ipynb_checkpoints', 'extracted_content', 'my_extracted_content'], ['07-Advanced-Modules-Exercise-Puzzle.ipynb', '08-Advanced-Modules-Exercise-Solutions.ipynb', 'puzzle.ipynb', 'unzip_me_for_instructions.zip'])\n",
      "('.\\\\.ipynb_checkpoints', [], ['07-Advanced-Modules-Exercise-Puzzle-checkpoint.ipynb', '08-Advanced-Modules-Exercise-Solutions-checkpoint.ipynb', 'puzzle-checkpoint.ipynb'])\n",
      "('.\\\\extracted_content', ['Five', 'Four', 'One', 'Three', 'Two'], ['Instructions.txt'])\n",
      "('.\\\\extracted_content\\\\Five', [], ['AEITMYIRQLP.txt', 'APJKSRITGGX.txt', 'AQKATDFGXTS.txt', 'ARLKFCWIAJE.txt', 'AXJGVPVEFAS.txt', 'BNUQEHCFRTG.txt', 'BSKJDRNEZQM.txt', 'BTYWAHLHKBM.txt', 'BUGKBZWRRVI.txt', 'BVBURZZCAPR.txt', 'CAHBEVSVDDN.txt', 'COMGMZBJAYE.txt', 'CRFSDGYFSHA.txt', 'CSCLFZCDYYC.txt', 'CXBVCTRBBIE.txt', 'DDLASODUVPX.txt', 'DHZBAAYEADM.txt', 'DQPZQLBCJYP.txt', 'DYOPIIVMZOO.txt', 'DZUWWXYIAEL.txt', 'EAAOEPSAWMQ.txt', 'EIPWXMQZJKU.txt', 'ESIZWBHMGDP.txt', 'ETCUEXWNBCF.txt', 'EYTCGIOYWIW.txt'])\n",
      "('.\\\\extracted_content\\\\Four', [], ['ECIOBYCDVFI.txt', 'EMTGPSXQEJX.txt', 'EPRNUHRSESC.txt', 'ESDIZXHYCVY.txt', 'EXVQSVBQQQH.txt', 'QCTCKDIBBVG.txt', 'QCWCFLKNZMN.txt', 'QDDETWBHJYC.txt', 'QTDYYIFPHAU.txt', 'QVNJULGXNUM.txt', 'REAXWSOIQDY.txt', 'ROICPTWKXDX.txt', 'RSXOTNGKBML.txt', 'RXDARIDGKBF.txt', 'RYNXFYXMKHG.txt', 'TAKNAVDMZKV.txt', 'THPNEGKTJWI.txt', 'TJFMLJODVAD.txt', 'TKCZSFQNJTX.txt', 'TWUOYFCCYBQ.txt', 'WFSKPTXPFCH.txt', 'WHTOHQUWXIN.txt', 'WNJISWPEBRS.txt', 'WXDJDOGZEHN.txt', 'WYDLGSGGXKV.txt'])\n",
      "('.\\\\extracted_content\\\\One', [], ['HDOHZHFSTTK.txt', 'HFUTPPAXDIS.txt', 'HMNZTLIFGPD.txt', 'HRQFTHKVJTL.txt', 'HVUTZEVMSBW.txt', 'JDLRVFCXYLU.txt', 'JEHBLZPUPSP.txt', 'JLTXKIGCWDL.txt', 'JQUOBKFUACN.txt', 'JTHSNBNPQSE.txt', 'KCXGNQCZBLO.txt', 'KFIUZFERLET.txt', 'KMMLGJOWLGI.txt', 'KNBSKDREHQU.txt', 'KTXDHIOKAUI.txt', 'LDGOCUQJNNS.txt', 'LFEATJAAYDC.txt', 'LHODFIKVTQA.txt', 'LIFDHOFKWOI.txt', 'LPNDVDXPZIG.txt', 'PDJMSMNKIRM.txt', 'PHWAVPEKAER.txt', 'PLYCGPVEAWO.txt', 'PQNVCVJINAR.txt', 'PTOBBCJYURJ.txt'])\n",
      "('.\\\\extracted_content\\\\Three', [], ['VAQIJTDOFUJ.txt', 'VCFJCGJFBIH.txt', 'VSXFSTABZDY.txt', 'VVHFVZUNLOO.txt', 'VVKGWLRMHLU.txt', 'XAJMCPEWFNI.txt', 'XFHJOTNPEJG.txt', 'XHZPVUQTXIO.txt', 'XJCWENFFGHB.txt', 'XVMPVSVYKFR.txt', 'YCESZHJDBXH.txt', 'YDQFMWXOUMW.txt', 'YQBIUHSUEVW.txt', 'YQRNCMNFFHW.txt', 'YYIZGBTQHZP.txt', 'ZEZKKRBIZEB.txt', 'ZKQJXAYKPVD.txt', 'ZOWVXWPOGWP.txt', 'ZXEZRQXZNPG.txt', 'ZXIBJMPROKW.txt'])\n",
      "('.\\\\extracted_content\\\\Two', [], ['GKQBQRCTNNK.txt', 'GMMQQUBMJNR.txt', 'GQTJJORZBXY.txt', 'GTOTCIWMDBY.txt', 'GXYSEPAFRTP.txt', 'HARDNJGDRBC.txt', 'HEORIXOTANT.txt', 'HMUTDOVNYTV.txt', 'HMZXPBOPRAE.txt', 'HTOHSTYXTCO.txt', 'LCJZYDHBFRM.txt', 'LSQSTGPIGIY.txt', 'LULTNYAQEJG.txt', 'LVMBINRBJXL.txt', 'LYZEQCVYNEZ.txt', 'OHZOUOSFJQC.txt', 'OIHMLGMWTHL.txt', 'OKWFOOYTXFU.txt', 'OMWIMVRCMYM.txt', 'OYMAGXAGWHJ.txt', 'SIKFPPLCJDN.txt', 'SJMJLDGPBSJ.txt', 'SOFUJYXTIMK.txt', 'SPDZYGDHEWO.txt', 'SWOFXREEHWA.txt'])\n",
      "('.\\\\my_extracted_content', ['extracted_content'], [])\n",
      "('.\\\\my_extracted_content\\\\extracted_content', ['Five', 'Four', 'One', 'Three', 'Two'], ['Instructions.txt'])\n",
      "('.\\\\my_extracted_content\\\\extracted_content\\\\Five', [], ['AEITMYIRQLP.txt', 'APJKSRITGGX.txt', 'AQKATDFGXTS.txt', 'ARLKFCWIAJE.txt', 'AXJGVPVEFAS.txt', 'BNUQEHCFRTG.txt', 'BSKJDRNEZQM.txt', 'BTYWAHLHKBM.txt', 'BUGKBZWRRVI.txt', 'BVBURZZCAPR.txt', 'CAHBEVSVDDN.txt', 'COMGMZBJAYE.txt', 'CRFSDGYFSHA.txt', 'CSCLFZCDYYC.txt', 'CXBVCTRBBIE.txt', 'DDLASODUVPX.txt', 'DHZBAAYEADM.txt', 'DQPZQLBCJYP.txt', 'DYOPIIVMZOO.txt', 'DZUWWXYIAEL.txt', 'EAAOEPSAWMQ.txt', 'EIPWXMQZJKU.txt', 'ESIZWBHMGDP.txt', 'ETCUEXWNBCF.txt', 'EYTCGIOYWIW.txt'])\n",
      "('.\\\\my_extracted_content\\\\extracted_content\\\\Four', [], ['ECIOBYCDVFI.txt', 'EMTGPSXQEJX.txt', 'EPRNUHRSESC.txt', 'ESDIZXHYCVY.txt', 'EXVQSVBQQQH.txt', 'QCTCKDIBBVG.txt', 'QCWCFLKNZMN.txt', 'QDDETWBHJYC.txt', 'QTDYYIFPHAU.txt', 'QVNJULGXNUM.txt', 'REAXWSOIQDY.txt', 'ROICPTWKXDX.txt', 'RSXOTNGKBML.txt', 'RXDARIDGKBF.txt', 'RYNXFYXMKHG.txt', 'TAKNAVDMZKV.txt', 'THPNEGKTJWI.txt', 'TJFMLJODVAD.txt', 'TKCZSFQNJTX.txt', 'TWUOYFCCYBQ.txt', 'WFSKPTXPFCH.txt', 'WHTOHQUWXIN.txt', 'WNJISWPEBRS.txt', 'WXDJDOGZEHN.txt', 'WYDLGSGGXKV.txt'])\n",
      "('.\\\\my_extracted_content\\\\extracted_content\\\\One', [], ['HDOHZHFSTTK.txt', 'HFUTPPAXDIS.txt', 'HMNZTLIFGPD.txt', 'HRQFTHKVJTL.txt', 'HVUTZEVMSBW.txt', 'JDLRVFCXYLU.txt', 'JEHBLZPUPSP.txt', 'JLTXKIGCWDL.txt', 'JQUOBKFUACN.txt', 'JTHSNBNPQSE.txt', 'KCXGNQCZBLO.txt', 'KFIUZFERLET.txt', 'KMMLGJOWLGI.txt', 'KNBSKDREHQU.txt', 'KTXDHIOKAUI.txt', 'LDGOCUQJNNS.txt', 'LFEATJAAYDC.txt', 'LHODFIKVTQA.txt', 'LIFDHOFKWOI.txt', 'LPNDVDXPZIG.txt', 'PDJMSMNKIRM.txt', 'PHWAVPEKAER.txt', 'PLYCGPVEAWO.txt', 'PQNVCVJINAR.txt', 'PTOBBCJYURJ.txt'])\n",
      "('.\\\\my_extracted_content\\\\extracted_content\\\\Three', [], ['VAQIJTDOFUJ.txt', 'VCFJCGJFBIH.txt', 'VSXFSTABZDY.txt', 'VVHFVZUNLOO.txt', 'VVKGWLRMHLU.txt', 'XAJMCPEWFNI.txt', 'XFHJOTNPEJG.txt', 'XHZPVUQTXIO.txt', 'XJCWENFFGHB.txt', 'XVMPVSVYKFR.txt', 'YCESZHJDBXH.txt', 'YDQFMWXOUMW.txt', 'YQBIUHSUEVW.txt', 'YQRNCMNFFHW.txt', 'YYIZGBTQHZP.txt', 'ZEZKKRBIZEB.txt', 'ZKQJXAYKPVD.txt', 'ZOWVXWPOGWP.txt', 'ZXEZRQXZNPG.txt', 'ZXIBJMPROKW.txt'])\n",
      "('.\\\\my_extracted_content\\\\extracted_content\\\\Two', [], ['GKQBQRCTNNK.txt', 'GMMQQUBMJNR.txt', 'GQTJJORZBXY.txt', 'GTOTCIWMDBY.txt', 'GXYSEPAFRTP.txt', 'HARDNJGDRBC.txt', 'HEORIXOTANT.txt', 'HMUTDOVNYTV.txt', 'HMZXPBOPRAE.txt', 'HTOHSTYXTCO.txt', 'LCJZYDHBFRM.txt', 'LSQSTGPIGIY.txt', 'LULTNYAQEJG.txt', 'LVMBINRBJXL.txt', 'LYZEQCVYNEZ.txt', 'OHZOUOSFJQC.txt', 'OIHMLGMWTHL.txt', 'OKWFOOYTXFU.txt', 'OMWIMVRCMYM.txt', 'OYMAGXAGWHJ.txt', 'SIKFPPLCJDN.txt', 'SJMJLDGPBSJ.txt', 'SOFUJYXTIMK.txt', 'SPDZYGDHEWO.txt', 'SWOFXREEHWA.txt'])\n"
     ]
    }
   ],
   "source": [
    "for y in x:\n",
    "    print(y)"
   ]
  },
  {
   "cell_type": "code",
   "execution_count": 43,
   "id": "caa510e4",
   "metadata": {},
   "outputs": [
    {
     "name": "stdout",
     "output_type": "stream",
     "text": [
      "my_extracted_content\\extracted_content\\Five\\Instructions.txt\n",
      "my_extracted_content\\extracted_content\\Four\\Instructions.txt\n",
      "my_extracted_content\\extracted_content\\One\\Instructions.txt\n",
      "my_extracted_content\\extracted_content\\Three\\Instructions.txt\n",
      "my_extracted_content\\extracted_content\\Two\\Instructions.txt\n"
     ]
    }
   ],
   "source": [
    "for folder, sub_folders , files in os.walk(path):\n",
    "    for sub_fold in sub_folders:\n",
    "        for file in files:\n",
    "            print(folder + \"\\\\\" + sub_fold + \"\\\\\" + file)\n"
   ]
  },
  {
   "cell_type": "code",
   "execution_count": 10,
   "id": "205bfc7e",
   "metadata": {},
   "outputs": [
    {
     "name": "stdout",
     "output_type": "stream",
     "text": [
      "my_extracted_content\\extracted_content\n",
      "my_extracted_content\\extracted_content\\Five\n",
      "my_extracted_content\\extracted_content\\Four\n",
      "my_extracted_content\\extracted_content\\One\n",
      "my_extracted_content\\extracted_content\\Three\n",
      "my_extracted_content\\extracted_content\\Two\n"
     ]
    }
   ],
   "source": [
    "for folder, sub_folders , files in os.walk(path):\n",
    "    print(folder)"
   ]
  },
  {
   "cell_type": "code",
   "execution_count": null,
   "id": "8daa677b",
   "metadata": {},
   "outputs": [],
   "source": []
  }
 ],
 "metadata": {
  "kernelspec": {
   "display_name": "Python 3",
   "language": "python",
   "name": "python3"
  },
  "language_info": {
   "codemirror_mode": {
    "name": "ipython",
    "version": 3
   },
   "file_extension": ".py",
   "mimetype": "text/x-python",
   "name": "python",
   "nbconvert_exporter": "python",
   "pygments_lexer": "ipython3",
   "version": "3.8.8"
  }
 },
 "nbformat": 4,
 "nbformat_minor": 5
}
